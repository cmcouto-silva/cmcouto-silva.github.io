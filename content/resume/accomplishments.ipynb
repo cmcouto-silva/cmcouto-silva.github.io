{
 "cells": [
  {
   "cell_type": "code",
   "execution_count": 4,
   "metadata": {},
   "outputs": [],
   "source": [
    "# Import Pandas\n",
    "import io\n",
    "import pyperclip\n",
    "import pandas as pd\n",
    "from contextlib import redirect_stdout"
   ]
  },
  {
   "cell_type": "code",
   "execution_count": 5,
   "metadata": {},
   "outputs": [],
   "source": [
    "# Load data and drop missing values\n",
    "df = pd.read_excel('/home/cmcouto-silva/Insync/cmcouto.silva@usp.br/cmcouto-silva.github.io/static/archive/resume/datascience_curriculum.xlsx')"
   ]
  },
  {
   "cell_type": "code",
   "execution_count": 6,
   "metadata": {},
   "outputs": [
    {
     "data": {
      "text/html": [
       "<div>\n",
       "<style scoped>\n",
       "    .dataframe tbody tr th:only-of-type {\n",
       "        vertical-align: middle;\n",
       "    }\n",
       "\n",
       "    .dataframe tbody tr th {\n",
       "        vertical-align: top;\n",
       "    }\n",
       "\n",
       "    .dataframe thead th {\n",
       "        text-align: right;\n",
       "    }\n",
       "</style>\n",
       "<table border=\"1\" class=\"dataframe\">\n",
       "  <thead>\n",
       "    <tr style=\"text-align: right;\">\n",
       "      <th></th>\n",
       "      <th>Name</th>\n",
       "      <th>Type</th>\n",
       "      <th>Link</th>\n",
       "      <th>Institution</th>\n",
       "      <th>Platform</th>\n",
       "      <th>Tags</th>\n",
       "      <th>Completed</th>\n",
       "      <th>Certificate</th>\n",
       "      <th>Completion_date</th>\n",
       "      <th>Additional_Info</th>\n",
       "    </tr>\n",
       "  </thead>\n",
       "  <tbody>\n",
       "    <tr>\n",
       "      <th>0</th>\n",
       "      <td>NaN</td>\n",
       "      <td>NaN</td>\n",
       "      <td>NaN</td>\n",
       "      <td>NaN</td>\n",
       "      <td>NaN</td>\n",
       "      <td>NaN</td>\n",
       "      <td>NaN</td>\n",
       "      <td>NaN</td>\n",
       "      <td>NaN</td>\n",
       "      <td>NaN</td>\n",
       "    </tr>\n",
       "    <tr>\n",
       "      <th>1</th>\n",
       "      <td>Statistics with R Specialization</td>\n",
       "      <td>Specialization</td>\n",
       "      <td>https://www.coursera.org/specializations/stati...</td>\n",
       "      <td>Duke University</td>\n",
       "      <td>Coursera</td>\n",
       "      <td>R, Statistics</td>\n",
       "      <td>NaN</td>\n",
       "      <td>NaN</td>\n",
       "      <td>NaN</td>\n",
       "      <td>PLUS</td>\n",
       "    </tr>\n",
       "    <tr>\n",
       "      <th>2</th>\n",
       "      <td>Introduction to Probability and Data</td>\n",
       "      <td>Course</td>\n",
       "      <td>https://www.coursera.org/learn/probability-int...</td>\n",
       "      <td>Duke University</td>\n",
       "      <td>Coursera</td>\n",
       "      <td>R, Statistics</td>\n",
       "      <td>False</td>\n",
       "      <td>NaN</td>\n",
       "      <td>NaN</td>\n",
       "      <td>PLUS</td>\n",
       "    </tr>\n",
       "    <tr>\n",
       "      <th>3</th>\n",
       "      <td>Inferential Statistics</td>\n",
       "      <td>Course</td>\n",
       "      <td>https://www.coursera.org/learn/inferential-sta...</td>\n",
       "      <td>Duke University</td>\n",
       "      <td>Coursera</td>\n",
       "      <td>R, Statistics</td>\n",
       "      <td>False</td>\n",
       "      <td>NaN</td>\n",
       "      <td>NaN</td>\n",
       "      <td>PLUS</td>\n",
       "    </tr>\n",
       "    <tr>\n",
       "      <th>4</th>\n",
       "      <td>Linear Regression and Modeling</td>\n",
       "      <td>Course</td>\n",
       "      <td>https://www.coursera.org/learn/linear-regressi...</td>\n",
       "      <td>Duke University</td>\n",
       "      <td>Coursera</td>\n",
       "      <td>R, Statistics</td>\n",
       "      <td>False</td>\n",
       "      <td>NaN</td>\n",
       "      <td>NaN</td>\n",
       "      <td>PLUS</td>\n",
       "    </tr>\n",
       "  </tbody>\n",
       "</table>\n",
       "</div>"
      ],
      "text/plain": [
       "                                   Name            Type  \\\n",
       "0                                   NaN             NaN   \n",
       "1      Statistics with R Specialization  Specialization   \n",
       "2  Introduction to Probability and Data          Course   \n",
       "3                Inferential Statistics          Course   \n",
       "4        Linear Regression and Modeling          Course   \n",
       "\n",
       "                                                Link      Institution  \\\n",
       "0                                                NaN              NaN   \n",
       "1  https://www.coursera.org/specializations/stati...  Duke University   \n",
       "2  https://www.coursera.org/learn/probability-int...  Duke University   \n",
       "3  https://www.coursera.org/learn/inferential-sta...  Duke University   \n",
       "4  https://www.coursera.org/learn/linear-regressi...  Duke University   \n",
       "\n",
       "   Platform           Tags Completed Certificate Completion_date  \\\n",
       "0       NaN            NaN       NaN         NaN             NaN   \n",
       "1  Coursera  R, Statistics       NaN         NaN             NaN   \n",
       "2  Coursera  R, Statistics     False         NaN             NaN   \n",
       "3  Coursera  R, Statistics     False         NaN             NaN   \n",
       "4  Coursera  R, Statistics     False         NaN             NaN   \n",
       "\n",
       "  Additional_Info  \n",
       "0             NaN  \n",
       "1            PLUS  \n",
       "2            PLUS  \n",
       "3            PLUS  \n",
       "4            PLUS  "
      ]
     },
     "execution_count": 6,
     "metadata": {},
     "output_type": "execute_result"
    }
   ],
   "source": [
    "df.head()"
   ]
  },
  {
   "cell_type": "code",
   "execution_count": 7,
   "metadata": {},
   "outputs": [],
   "source": [
    "logi = df.isna().all(axis=1).shift(1, fill_value=False)"
   ]
  },
  {
   "cell_type": "code",
   "execution_count": 8,
   "metadata": {},
   "outputs": [],
   "source": [
    "df.insert(0, 'Group',  df.loc[logi, 'Name'])"
   ]
  },
  {
   "cell_type": "code",
   "execution_count": 9,
   "metadata": {},
   "outputs": [],
   "source": [
    "df.dropna(how='all', inplace=True)"
   ]
  },
  {
   "cell_type": "code",
   "execution_count": 10,
   "metadata": {},
   "outputs": [],
   "source": [
    "df.loc[:, 'Group'] = df.Group.ffill()"
   ]
  },
  {
   "cell_type": "code",
   "execution_count": 11,
   "metadata": {},
   "outputs": [],
   "source": [
    "# Fix dtypes\n",
    "df['Completion_date'] = pd.to_datetime(df.Completion_date)\n",
    "df['Completed'] = df.Completed.fillna(0).replace({'doing':0}).astype(bool)"
   ]
  },
  {
   "cell_type": "code",
   "execution_count": 12,
   "metadata": {},
   "outputs": [],
   "source": [
    "# Get courses with certificate\n",
    "df = df[df.Completed & df.Certificate.fillna(False).astype(bool)]\n",
    "df = df[['Group', 'Name', 'Type', 'Link', 'Institution', 'Platform', 'Certificate', 'Completion_date']]"
   ]
  },
  {
   "cell_type": "code",
   "execution_count": 13,
   "metadata": {},
   "outputs": [
    {
     "data": {
      "text/html": [
       "<div>\n",
       "<style scoped>\n",
       "    .dataframe tbody tr th:only-of-type {\n",
       "        vertical-align: middle;\n",
       "    }\n",
       "\n",
       "    .dataframe tbody tr th {\n",
       "        vertical-align: top;\n",
       "    }\n",
       "\n",
       "    .dataframe thead th {\n",
       "        text-align: right;\n",
       "    }\n",
       "</style>\n",
       "<table border=\"1\" class=\"dataframe\">\n",
       "  <thead>\n",
       "    <tr style=\"text-align: right;\">\n",
       "      <th></th>\n",
       "      <th>Group</th>\n",
       "      <th>Name</th>\n",
       "      <th>Type</th>\n",
       "      <th>Link</th>\n",
       "      <th>Institution</th>\n",
       "      <th>Platform</th>\n",
       "      <th>Certificate</th>\n",
       "      <th>Completion_date</th>\n",
       "    </tr>\n",
       "  </thead>\n",
       "  <tbody>\n",
       "    <tr>\n",
       "      <th>16</th>\n",
       "      <td>Mastering Software Development in R Specializa...</td>\n",
       "      <td>The R Programming Environment</td>\n",
       "      <td>Course</td>\n",
       "      <td>https://www.coursera.org/learn/r-programming-e...</td>\n",
       "      <td>Johns Hopkins University</td>\n",
       "      <td>Coursera</td>\n",
       "      <td>https://www.coursera.org/account/accomplishmen...</td>\n",
       "      <td>2018-03-08</td>\n",
       "    </tr>\n",
       "    <tr>\n",
       "      <th>61</th>\n",
       "      <td>Python for Everybody Specialization</td>\n",
       "      <td>Programming for Everybody (Getting Started wit...</td>\n",
       "      <td>Course</td>\n",
       "      <td>https://www.coursera.org/learn/python?speciali...</td>\n",
       "      <td>University of Michingan</td>\n",
       "      <td>Coursera</td>\n",
       "      <td>https://www.coursera.org/account/accomplishmen...</td>\n",
       "      <td>2020-06-20</td>\n",
       "    </tr>\n",
       "    <tr>\n",
       "      <th>62</th>\n",
       "      <td>Python for Everybody Specialization</td>\n",
       "      <td>Python Data Structures</td>\n",
       "      <td>Course</td>\n",
       "      <td>https://www.coursera.org/learn/python-data?spe...</td>\n",
       "      <td>University of Michingan</td>\n",
       "      <td>Coursera</td>\n",
       "      <td>https://www.coursera.org/account/accomplishmen...</td>\n",
       "      <td>2020-06-20</td>\n",
       "    </tr>\n",
       "    <tr>\n",
       "      <th>68</th>\n",
       "      <td>Python 3 Programming Specialization</td>\n",
       "      <td>Python Basics</td>\n",
       "      <td>Course</td>\n",
       "      <td>https://www.coursera.org/learn/python-basics?s...</td>\n",
       "      <td>University of Michingan</td>\n",
       "      <td>Coursera</td>\n",
       "      <td>https://www.coursera.org/account/accomplishmen...</td>\n",
       "      <td>2020-03-18</td>\n",
       "    </tr>\n",
       "    <tr>\n",
       "      <th>69</th>\n",
       "      <td>Python 3 Programming Specialization</td>\n",
       "      <td>Python Functions, Files, and Dictionaries</td>\n",
       "      <td>Course</td>\n",
       "      <td>https://www.coursera.org/learn/python-function...</td>\n",
       "      <td>University of Michingan</td>\n",
       "      <td>Coursera</td>\n",
       "      <td>https://www.coursera.org/account/accomplishmen...</td>\n",
       "      <td>2020-04-03</td>\n",
       "    </tr>\n",
       "  </tbody>\n",
       "</table>\n",
       "</div>"
      ],
      "text/plain": [
       "                                                Group  \\\n",
       "16  Mastering Software Development in R Specializa...   \n",
       "61                Python for Everybody Specialization   \n",
       "62                Python for Everybody Specialization   \n",
       "68                Python 3 Programming Specialization   \n",
       "69                Python 3 Programming Specialization   \n",
       "\n",
       "                                                 Name    Type  \\\n",
       "16                      The R Programming Environment  Course   \n",
       "61  Programming for Everybody (Getting Started wit...  Course   \n",
       "62                             Python Data Structures  Course   \n",
       "68                                      Python Basics  Course   \n",
       "69          Python Functions, Files, and Dictionaries  Course   \n",
       "\n",
       "                                                 Link  \\\n",
       "16  https://www.coursera.org/learn/r-programming-e...   \n",
       "61  https://www.coursera.org/learn/python?speciali...   \n",
       "62  https://www.coursera.org/learn/python-data?spe...   \n",
       "68  https://www.coursera.org/learn/python-basics?s...   \n",
       "69  https://www.coursera.org/learn/python-function...   \n",
       "\n",
       "                 Institution  Platform  \\\n",
       "16  Johns Hopkins University  Coursera   \n",
       "61   University of Michingan  Coursera   \n",
       "62   University of Michingan  Coursera   \n",
       "68   University of Michingan  Coursera   \n",
       "69   University of Michingan  Coursera   \n",
       "\n",
       "                                          Certificate Completion_date  \n",
       "16  https://www.coursera.org/account/accomplishmen...      2018-03-08  \n",
       "61  https://www.coursera.org/account/accomplishmen...      2020-06-20  \n",
       "62  https://www.coursera.org/account/accomplishmen...      2020-06-20  \n",
       "68  https://www.coursera.org/account/accomplishmen...      2020-03-18  \n",
       "69  https://www.coursera.org/account/accomplishmen...      2020-04-03  "
      ]
     },
     "execution_count": 13,
     "metadata": {},
     "output_type": "execute_result"
    }
   ],
   "source": [
    "df.head()"
   ]
  },
  {
   "cell_type": "code",
   "execution_count": 14,
   "metadata": {},
   "outputs": [
    {
     "data": {
      "text/plain": [
       "DataCamp Career Track: Data Analyst with Python       14\n",
       "DataCamp Career Track: Data Scientist with Python     13\n",
       "DataCamp Career Track: Python Programmer               6\n",
       "IBM Data Science Professional Certificate              5\n",
       "Kaggle Minicourses                                     5\n",
       "DataCamp - Introductory courses                        5\n",
       "Applied Data Science Specialization                    3\n",
       "Python for Everybody Specialization                    2\n",
       "Python 3 Programming Specialization                    2\n",
       "Mastering Software Development in R Specialization     1\n",
       "Statistics with Python Specialization                  1\n",
       "LinkedIn Learning                                      1\n",
       "Name: Group, dtype: int64"
      ]
     },
     "execution_count": 14,
     "metadata": {},
     "output_type": "execute_result"
    }
   ],
   "source": [
    "df.Group.value_counts()"
   ]
  },
  {
   "cell_type": "code",
   "execution_count": 15,
   "metadata": {},
   "outputs": [],
   "source": [
    "featured_groups = [\n",
    "    'IBM Data Science Professional Certificate',\n",
    "    'DataCamp Career Track: Data Analyst with Python'\n",
    "]"
   ]
  },
  {
   "cell_type": "code",
   "execution_count": 23,
   "metadata": {},
   "outputs": [],
   "source": [
    "df_feat = df[df.Group.isin(featured_groups)].copy()\n",
    "df_feat.loc[:, 'Group'] = pd.Categorical(df_feat.Group, featured_groups)\n",
    "df_feat = df_feat.reset_index().sort_values(['Group', 'index'], ascending=True).drop('index', axis=1)"
   ]
  },
  {
   "cell_type": "code",
   "execution_count": 24,
   "metadata": {},
   "outputs": [
    {
     "data": {
      "text/plain": [
       "array(['Coursera', 'Kaggle', 'DataCamp', 'LinkedIn'], dtype=object)"
      ]
     },
     "execution_count": 24,
     "metadata": {},
     "output_type": "execute_result"
    }
   ],
   "source": [
    "df_plat = df[~df.Group.isin(featured_groups)]\n",
    "df_plat.Platform.unique()"
   ]
  },
  {
   "cell_type": "code",
   "execution_count": 25,
   "metadata": {},
   "outputs": [],
   "source": [
    "df_plat['Platform'] = pd.Categorical(df_plat.Platform, ['DataCamp', 'Coursera', 'Kaggle', 'LinkedIn'])\n",
    "df_feat = df_feat.reset_index().sort_values(['Group', 'index'], ascending=True).drop('index', axis=1)"
   ]
  },
  {
   "cell_type": "code",
   "execution_count": 26,
   "metadata": {},
   "outputs": [],
   "source": [
    "featured_courses = df_feat[['Institution', 'Name']]\n",
    "df_plat = (\n",
    "    df_plat.merge(featured_courses, 'left', indicator=True)\n",
    "    .query('_merge==\"left_only\"').drop('_merge', axis=1)\n",
    "    .sort_values(['Platform', 'Completion_date'], ascending=False)\n",
    ")"
   ]
  },
  {
   "cell_type": "markdown",
   "metadata": {},
   "source": [
    "### Create tables with Markdown syntax"
   ]
  },
  {
   "cell_type": "code",
   "execution_count": 27,
   "metadata": {},
   "outputs": [],
   "source": [
    "# Featured course groups\n",
    "feat_md = io.StringIO()\n",
    "with redirect_stdout(feat_md):\n",
    "    for group, df in df_feat.groupby('Group'):\n",
    "        print(f'#### {group}', '---', sep='\\n')\n",
    "        header = ('|Institution|Subject|Certificate|Date|', '|---|---|---|---|')\n",
    "        print('\\n'.join(header))\n",
    "        df.apply(lambda row: print(\n",
    "            f'|{row.Institution}'\n",
    "            f'|<a href=\"{row.Link}\" target=\"_blank\" style=\"color:inherit\">{row.Name}</a>',\n",
    "            f'|<a href=\"{row.Certificate}\" target=\"_blank\">see certificate</a>',\n",
    "            f'|{row.Completion_date.strftime(\"%b %Y\")}|',\n",
    "            sep=''\n",
    "        ), axis=1)\n",
    "        print()\n",
    "    \n",
    "feat_md = feat_md.getvalue()\n",
    "# print(feat_md)"
   ]
  },
  {
   "cell_type": "code",
   "execution_count": 30,
   "metadata": {},
   "outputs": [],
   "source": [
    "# All courses\n",
    "plat_md = io.StringIO()\n",
    "with redirect_stdout(plat_md):\n",
    "    for group, df in df_plat.groupby('Platform'):\n",
    "        df = df.sort_values('Completion_date', ascending=False)\n",
    "        print(f'#### {group}', '---', sep='\\n')\n",
    "        header = ('|Institution|Subject|Certificate|Date|', '|---|---|---|---|')\n",
    "        print('\\n'.join(header))\n",
    "        df.apply(lambda row: print(\n",
    "            f'|{row.Institution}'\n",
    "            f'|<a href=\"{row.Link}\" target=\"_blank\" style=\"color:inherit\">{row.Name}</a>',\n",
    "            f'|<a href=\"{row.Certificate}\" target=\"_blank\">see certificate</a>',\n",
    "            f'|{row.Completion_date.strftime(\"%b %Y\")}|',\n",
    "            sep=''\n",
    "        ), axis=1)\n",
    "        print()\n",
    "    \n",
    "plat_md = plat_md.getvalue()\n",
    "# print(plat_md)"
   ]
  },
  {
   "cell_type": "markdown",
   "metadata": {},
   "source": [
    "### Create tables with HTML5 syntax"
   ]
  },
  {
   "cell_type": "code",
   "execution_count": 34,
   "metadata": {
    "scrolled": true
   },
   "outputs": [],
   "source": [
    "# Featured course groups\n",
    "feat_html = io.StringIO()\n",
    "with redirect_stdout(feat_html):\n",
    "    for group, df in df_feat.groupby('Group'):\n",
    "\n",
    "        print(f'<h4>{group}</h4><hr>')\n",
    "\n",
    "        header = [\n",
    "        '<table>', '<thead>', '<tr>',\n",
    "        '<th class=\"institution\">Institution</th>',\n",
    "        '<th class=\"subject\">Subject</th>',\n",
    "        '<th class=\"certificate\">Certificate</th>',\n",
    "        '<th class=\"date\">Date</th>',\n",
    "        '</tr>', '</thead>', '<tbody>'\n",
    "        ]\n",
    "\n",
    "        [print(h) for h in header]\n",
    "\n",
    "        df.apply(lambda row: print(\n",
    "            f'<tr>',\n",
    "            f'<td>{row.Institution}</td>',\n",
    "            f'<td><a href=\"{row.Link}\" target=\"_blank\" style=\"color:inherit\">{row.Name}</a></td>',\n",
    "            f'<td class=\"certificate\"><a href=\"{row.Certificate}\" target=\"_blank\">see certificate</a></td>',\n",
    "            f'<td class=\"date\">{row.Completion_date.strftime(\"%b %Y\")}</td>',\n",
    "            '</tr>',\n",
    "            sep=''\n",
    "        ), axis=1)\n",
    "\n",
    "        print('</tbody>')\n",
    "        print('</table>')\n",
    "        print()\n",
    "    \n",
    "feat_html = feat_html.getvalue()\n",
    "# print(feat_html)"
   ]
  },
  {
   "cell_type": "code",
   "execution_count": 36,
   "metadata": {
    "tags": []
   },
   "outputs": [],
   "source": [
    "# All courses\n",
    "plat_html = io.StringIO()\n",
    "with redirect_stdout(plat_html):\n",
    "    for group, df in df_plat.groupby('Platform'):\n",
    "\n",
    "        print(f'<h4>{group}</h4><hr>')\n",
    "\n",
    "        header = [\n",
    "        '<table>', '<thead>', '<tr>',\n",
    "        '<th class=\"institution\">Institution</th>',\n",
    "        '<th class=\"subject\">Subject</th>',\n",
    "        '<th class=\"certificate\">Certificate</th>',\n",
    "        '<th class=\"date\">Date</th>',\n",
    "        '</tr>', '</thead>', '<tbody>'\n",
    "        ]\n",
    "\n",
    "        [print(h) for h in header]\n",
    "\n",
    "        df.apply(lambda row: print(\n",
    "            f'<tr>',\n",
    "            f'<td>{row.Institution}</td>',\n",
    "            f'<td><a href=\"{row.Link}\" target=\"_blank\" style=\"color:inherit\">{row.Name}</a></td>',\n",
    "            f'<td class=\"certificate\"><a href=\"{row.Certificate}\" target=\"_blank\">see certificate</a></td>',\n",
    "            f'<td class=\"date\">{row.Completion_date.strftime(\"%b %Y\")}</td>',\n",
    "            '</tr>',\n",
    "            sep=''\n",
    "        ), axis=1)\n",
    "\n",
    "        print('</tbody>')\n",
    "        print('</table>')\n",
    "        print()\n",
    "    \n",
    "plat_html = plat_html.getvalue()\n",
    "# print(plat_html)"
   ]
  },
  {
   "cell_type": "code",
   "execution_count": 37,
   "metadata": {},
   "outputs": [],
   "source": [
    "pyperclip.copy(feat_html)"
   ]
  },
  {
   "cell_type": "code",
   "execution_count": 38,
   "metadata": {},
   "outputs": [],
   "source": [
    "pyperclip.copy(plat_html)"
   ]
  },
  {
   "cell_type": "code",
   "execution_count": null,
   "metadata": {},
   "outputs": [],
   "source": []
  },
  {
   "cell_type": "code",
   "execution_count": null,
   "metadata": {},
   "outputs": [],
   "source": []
  }
 ],
 "metadata": {
  "kernelspec": {
   "display_name": "Python 3 (ipykernel)",
   "language": "python",
   "name": "python3"
  },
  "language_info": {
   "codemirror_mode": {
    "name": "ipython",
    "version": 3
   },
   "file_extension": ".py",
   "mimetype": "text/x-python",
   "name": "python",
   "nbconvert_exporter": "python",
   "pygments_lexer": "ipython3",
   "version": "3.8.10"
  }
 },
 "nbformat": 4,
 "nbformat_minor": 4
}
